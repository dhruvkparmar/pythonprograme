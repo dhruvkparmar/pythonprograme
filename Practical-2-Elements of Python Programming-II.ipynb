{
 "cells": [
  {
   "cell_type": "markdown",
   "id": "scientific-network",
   "metadata": {},
   "source": [
    "### 1. Operators\n",
    "Python supports following operators:<br>\n",
    "Arithmetic<br>\n",
    "Logical<br>\n",
    "Relational<br>\n",
    "Assignment<br>\n",
    "Boolean<br>\n",
    "Bitwise<br>\n",
    "Membership"
   ]
  },
  {
   "cell_type": "markdown",
   "id": "amateur-architect",
   "metadata": {},
   "source": [
    "Arithmetic operators"
   ]
  },
  {
   "cell_type": "code",
   "execution_count": null,
   "id": "swiss-investment",
   "metadata": {},
   "outputs": [],
   "source": [
    "a = 7\n",
    "b = 9"
   ]
  },
  {
   "cell_type": "code",
   "execution_count": null,
   "id": "judicial-mentor",
   "metadata": {},
   "outputs": [],
   "source": [
    "a + b"
   ]
  },
  {
   "cell_type": "code",
   "execution_count": null,
   "id": "desperate-president",
   "metadata": {},
   "outputs": [],
   "source": [
    "a - b"
   ]
  },
  {
   "cell_type": "code",
   "execution_count": null,
   "id": "identical-honduras",
   "metadata": {},
   "outputs": [],
   "source": [
    "a * b"
   ]
  },
  {
   "cell_type": "code",
   "execution_count": null,
   "id": "everyday-dress",
   "metadata": {},
   "outputs": [],
   "source": [
    "a / b"
   ]
  },
  {
   "cell_type": "code",
   "execution_count": null,
   "id": "basic-surge",
   "metadata": {},
   "outputs": [],
   "source": [
    "a // b"
   ]
  },
  {
   "cell_type": "code",
   "execution_count": null,
   "id": "geological-spring",
   "metadata": {},
   "outputs": [],
   "source": [
    "b / a"
   ]
  },
  {
   "cell_type": "code",
   "execution_count": null,
   "id": "sweet-jerusalem",
   "metadata": {},
   "outputs": [],
   "source": [
    "b // a"
   ]
  },
  {
   "cell_type": "code",
   "execution_count": null,
   "id": "future-norman",
   "metadata": {},
   "outputs": [],
   "source": [
    "a ** 2"
   ]
  },
  {
   "cell_type": "code",
   "execution_count": null,
   "id": "elect-mission",
   "metadata": {},
   "outputs": [],
   "source": [
    "a ** 3"
   ]
  },
  {
   "cell_type": "code",
   "execution_count": null,
   "id": "seasonal-aircraft",
   "metadata": {},
   "outputs": [],
   "source": [
    "5 ** 3"
   ]
  },
  {
   "cell_type": "code",
   "execution_count": null,
   "id": "static-polyester",
   "metadata": {},
   "outputs": [],
   "source": [
    "a % 2"
   ]
  },
  {
   "cell_type": "code",
   "execution_count": null,
   "id": "amber-induction",
   "metadata": {},
   "outputs": [],
   "source": [
    "a % 3"
   ]
  },
  {
   "cell_type": "code",
   "execution_count": null,
   "id": "promotional-produce",
   "metadata": {},
   "outputs": [],
   "source": [
    "9 % 3"
   ]
  },
  {
   "cell_type": "markdown",
   "id": "offshore-vault",
   "metadata": {},
   "source": [
    "Assignment Operators"
   ]
  },
  {
   "cell_type": "code",
   "execution_count": null,
   "id": "opponent-rebate",
   "metadata": {},
   "outputs": [],
   "source": [
    "a = 7\n",
    "a"
   ]
  },
  {
   "cell_type": "code",
   "execution_count": null,
   "id": "analyzed-violation",
   "metadata": {},
   "outputs": [],
   "source": [
    "b = 9"
   ]
  },
  {
   "cell_type": "code",
   "execution_count": null,
   "id": "entitled-boards",
   "metadata": {},
   "outputs": [],
   "source": [
    "a += b\n",
    "a"
   ]
  },
  {
   "cell_type": "code",
   "execution_count": null,
   "id": "exceptional-nursery",
   "metadata": {},
   "outputs": [],
   "source": [
    "a -= b\n",
    "a"
   ]
  },
  {
   "cell_type": "code",
   "execution_count": null,
   "id": "outdoor-preliminary",
   "metadata": {},
   "outputs": [],
   "source": [
    "a *= b\n",
    "a"
   ]
  },
  {
   "cell_type": "code",
   "execution_count": null,
   "id": "single-departure",
   "metadata": {},
   "outputs": [],
   "source": [
    "a /= b\n",
    "a"
   ]
  },
  {
   "cell_type": "code",
   "execution_count": null,
   "id": "hundred-cattle",
   "metadata": {},
   "outputs": [],
   "source": [
    "a //= b\n",
    "a"
   ]
  },
  {
   "cell_type": "code",
   "execution_count": null,
   "id": "adjacent-graphics",
   "metadata": {},
   "outputs": [],
   "source": [
    "a = 4; b = 2\n",
    "a **= b\n",
    "a"
   ]
  },
  {
   "cell_type": "markdown",
   "id": "material-sarah",
   "metadata": {},
   "source": [
    "Unary minus operator"
   ]
  },
  {
   "cell_type": "code",
   "execution_count": null,
   "id": "parallel-opposition",
   "metadata": {},
   "outputs": [],
   "source": [
    "a = 7\n",
    "-a"
   ]
  },
  {
   "cell_type": "code",
   "execution_count": null,
   "id": "extended-marshall",
   "metadata": {},
   "outputs": [],
   "source": [
    "b = -a\n",
    "print(a)"
   ]
  },
  {
   "cell_type": "markdown",
   "id": "earlier-divide",
   "metadata": {},
   "source": [
    "Relational operators"
   ]
  },
  {
   "cell_type": "code",
   "execution_count": null,
   "id": "muslim-anniversary",
   "metadata": {},
   "outputs": [],
   "source": [
    "a = 7\n",
    "b = 9"
   ]
  },
  {
   "cell_type": "code",
   "execution_count": null,
   "id": "guided-shell",
   "metadata": {},
   "outputs": [],
   "source": [
    "a > b"
   ]
  },
  {
   "cell_type": "code",
   "execution_count": null,
   "id": "absent-symbol",
   "metadata": {},
   "outputs": [],
   "source": [
    "a < b"
   ]
  },
  {
   "cell_type": "code",
   "execution_count": null,
   "id": "weighted-filing",
   "metadata": {},
   "outputs": [],
   "source": [
    "a == b"
   ]
  },
  {
   "cell_type": "code",
   "execution_count": null,
   "id": "organizational-september",
   "metadata": {},
   "outputs": [],
   "source": [
    "a != b"
   ]
  },
  {
   "cell_type": "markdown",
   "id": "suited-stamp",
   "metadata": {},
   "source": [
    "Logical operators"
   ]
  },
  {
   "cell_type": "code",
   "execution_count": null,
   "id": "colonial-blame",
   "metadata": {},
   "outputs": [],
   "source": [
    "a = 7\n",
    "b = 9"
   ]
  },
  {
   "cell_type": "code",
   "execution_count": null,
   "id": "foster-swift",
   "metadata": {},
   "outputs": [],
   "source": [
    "a and b"
   ]
  },
  {
   "cell_type": "code",
   "execution_count": null,
   "id": "accessible-celebrity",
   "metadata": {},
   "outputs": [],
   "source": [
    "a or b"
   ]
  },
  {
   "cell_type": "code",
   "execution_count": null,
   "id": "generous-honduras",
   "metadata": {},
   "outputs": [],
   "source": [
    "a and 0"
   ]
  },
  {
   "cell_type": "code",
   "execution_count": null,
   "id": "dressed-length",
   "metadata": {},
   "outputs": [],
   "source": [
    "a and 1"
   ]
  },
  {
   "cell_type": "code",
   "execution_count": null,
   "id": "daily-radical",
   "metadata": {},
   "outputs": [],
   "source": [
    "a or 0"
   ]
  },
  {
   "cell_type": "code",
   "execution_count": null,
   "id": "backed-colonial",
   "metadata": {},
   "outputs": [],
   "source": [
    "\"Ego\" and 0"
   ]
  },
  {
   "cell_type": "code",
   "execution_count": null,
   "id": "hindu-break",
   "metadata": {},
   "outputs": [],
   "source": [
    "\"Self Introspect\" and 1"
   ]
  },
  {
   "cell_type": "markdown",
   "id": "typical-salon",
   "metadata": {},
   "source": [
    "Boolean operators"
   ]
  },
  {
   "cell_type": "code",
   "execution_count": null,
   "id": "cubic-state",
   "metadata": {},
   "outputs": [],
   "source": [
    "a = True\n",
    "b = False"
   ]
  },
  {
   "cell_type": "code",
   "execution_count": null,
   "id": "proprietary-walter",
   "metadata": {},
   "outputs": [],
   "source": [
    "a and b"
   ]
  },
  {
   "cell_type": "code",
   "execution_count": null,
   "id": "owned-architecture",
   "metadata": {},
   "outputs": [],
   "source": [
    "a or b"
   ]
  },
  {
   "cell_type": "code",
   "execution_count": null,
   "id": "unlikely-sixth",
   "metadata": {},
   "outputs": [],
   "source": [
    "not a or b"
   ]
  },
  {
   "cell_type": "code",
   "execution_count": null,
   "id": "purple-imagination",
   "metadata": {},
   "outputs": [],
   "source": [
    "not b"
   ]
  },
  {
   "cell_type": "code",
   "execution_count": null,
   "id": "excited-tract",
   "metadata": {},
   "outputs": [],
   "source": [
    "False or b"
   ]
  },
  {
   "cell_type": "markdown",
   "id": "confused-gather",
   "metadata": {},
   "source": [
    "Bitwise operators"
   ]
  },
  {
   "cell_type": "code",
   "execution_count": null,
   "id": "later-concern",
   "metadata": {},
   "outputs": [],
   "source": [
    "a = 7\n",
    "b = 2"
   ]
  },
  {
   "cell_type": "code",
   "execution_count": null,
   "id": "illegal-momentum",
   "metadata": {},
   "outputs": [],
   "source": [
    "a & b"
   ]
  },
  {
   "cell_type": "code",
   "execution_count": null,
   "id": "blessed-ending",
   "metadata": {},
   "outputs": [],
   "source": [
    "a | b"
   ]
  },
  {
   "cell_type": "code",
   "execution_count": null,
   "id": "official-sending",
   "metadata": {},
   "outputs": [],
   "source": [
    "a ^ b"
   ]
  },
  {
   "cell_type": "code",
   "execution_count": null,
   "id": "raising-restoration",
   "metadata": {},
   "outputs": [],
   "source": [
    "a << 1"
   ]
  },
  {
   "cell_type": "code",
   "execution_count": null,
   "id": "empty-accuracy",
   "metadata": {},
   "outputs": [],
   "source": [
    "a << 2"
   ]
  },
  {
   "cell_type": "code",
   "execution_count": null,
   "id": "immediate-glenn",
   "metadata": {},
   "outputs": [],
   "source": [
    "a << b"
   ]
  },
  {
   "cell_type": "code",
   "execution_count": null,
   "id": "adaptive-nursery",
   "metadata": {},
   "outputs": [],
   "source": [
    "a << 3"
   ]
  },
  {
   "cell_type": "markdown",
   "id": "higher-notion",
   "metadata": {},
   "source": [
    "Membership operators"
   ]
  },
  {
   "cell_type": "code",
   "execution_count": null,
   "id": "respected-medicine",
   "metadata": {},
   "outputs": [],
   "source": [
    "positives = ['honesty','politeness','thankfulness','respectful','Self dependence']"
   ]
  },
  {
   "cell_type": "code",
   "execution_count": null,
   "id": "handmade-liver",
   "metadata": {},
   "outputs": [],
   "source": [
    "characteristic = input(\"Enter any one characteristic:\")"
   ]
  },
  {
   "cell_type": "code",
   "execution_count": null,
   "id": "subsequent-silence",
   "metadata": {},
   "outputs": [],
   "source": [
    "characteristic in positives"
   ]
  },
  {
   "cell_type": "code",
   "execution_count": null,
   "id": "musical-fifty",
   "metadata": {},
   "outputs": [],
   "source": [
    "characteristic = input(\"Enter any one characteristic:\")"
   ]
  },
  {
   "cell_type": "code",
   "execution_count": null,
   "id": "editorial-skill",
   "metadata": {},
   "outputs": [],
   "source": [
    "characteristic not in positives"
   ]
  },
  {
   "cell_type": "markdown",
   "id": "taken-thesis",
   "metadata": {},
   "source": [
    "### EXERCISES-2-a\n",
    "Create Python programs for the following:\n",
    "<ol>\n",
    "    <li>Input two float operands from user. Apply arithmetic operators on them.\n",
    "    <li>Input two string operands from user. Check behaviour of relational and logical operators on them. Write your observations.\n",
    "    <li>Input two int operands from user. Explain behviour of bitwise operators on them.\n",
    "    <li>Explain various bitwise operators in detail with suitable examples.\n",
    "</ol>"
   ]
  },
  {
   "cell_type": "markdown",
   "id": "honest-routine",
   "metadata": {},
   "source": [
    "### Decision making\n",
    "if statement"
   ]
  },
  {
   "cell_type": "code",
   "execution_count": null,
   "id": "physical-redhead",
   "metadata": {},
   "outputs": [],
   "source": [
    "x = 7\n",
    "x"
   ]
  },
  {
   "cell_type": "code",
   "execution_count": null,
   "id": "radical-missouri",
   "metadata": {},
   "outputs": [],
   "source": [
    "if x==7:\n",
    "    print('seven')\n",
    "    \n",
    "print(\"Bye.\")"
   ]
  },
  {
   "cell_type": "code",
   "execution_count": null,
   "id": "intensive-silly",
   "metadata": {},
   "outputs": [],
   "source": [
    "if x==70:\n",
    "    print('seven')\n",
    "\n",
    "print(\"Bye.\")"
   ]
  },
  {
   "cell_type": "code",
   "execution_count": null,
   "id": "authorized-figure",
   "metadata": {},
   "outputs": [],
   "source": [
    "str = 'ddu'\n",
    "if str == \"ddu\":\n",
    "    print('ddu')\n",
    "print(\"Bye.\")"
   ]
  },
  {
   "cell_type": "code",
   "execution_count": null,
   "id": "signal-crowd",
   "metadata": {},
   "outputs": [],
   "source": [
    "str1 = 'Be accountable'\n",
    "str2 = 'BE ACCOUNTABLE'\n",
    "\n",
    "if str1 != str2:\n",
    "    print(str1, \"is not same as\", str2)\n",
    "    \n",
    "print(\"Bye.\")"
   ]
  },
  {
   "cell_type": "code",
   "execution_count": null,
   "id": "clear-technician",
   "metadata": {},
   "outputs": [],
   "source": [
    "x = 7\n",
    "y = 9"
   ]
  },
  {
   "cell_type": "code",
   "execution_count": null,
   "id": "greatest-maple",
   "metadata": {},
   "outputs": [],
   "source": [
    "print(\"Notice indentation in nested if.\")\n",
    "if x==7:\n",
    "    print('seven')\n",
    "    if y==9:\n",
    "        print('nine')"
   ]
  },
  {
   "cell_type": "markdown",
   "id": "copyrighted-extension",
   "metadata": {},
   "source": [
    "if - else statement"
   ]
  },
  {
   "cell_type": "code",
   "execution_count": null,
   "id": "swiss-audio",
   "metadata": {},
   "outputs": [],
   "source": [
    "x = 7\n",
    "if x==7:\n",
    "    print('seven')\n",
    "else:\n",
    "    print('not seven')"
   ]
  },
  {
   "cell_type": "code",
   "execution_count": null,
   "id": "prescription-joseph",
   "metadata": {},
   "outputs": [],
   "source": [
    "n = int(input(\"Enter a number:\"))\n",
    "if n > 10 and n < 20:\n",
    "    print(n,' is between 10 and 20.')\n",
    "else:\n",
    "    print(n,' is not between 10 and 20.')"
   ]
  },
  {
   "cell_type": "markdown",
   "id": "pacific-fairy",
   "metadata": {},
   "source": [
    "if - elif - else statement"
   ]
  },
  {
   "cell_type": "code",
   "execution_count": null,
   "id": "aerial-default",
   "metadata": {},
   "outputs": [],
   "source": [
    "n = -79\n",
    "\n",
    "if n == 0:\n",
    "    print(n, \"is zero.\")\n",
    "elif n > 0:\n",
    "    print(n, \"is positive.\")\n",
    "else:\n",
    "    print(n, \"is negative.\")"
   ]
  },
  {
   "cell_type": "markdown",
   "id": "preceding-digit",
   "metadata": {},
   "source": [
    "### EXERCISES-2-b\n",
    "Create Python programs for the following:\n",
    "<ol>\n",
    "    <li>Determine whether an integer entered by a user is odd or even.\n",
    "    <li>Input student details: rollno, name and marks of 3 subjects from user. Calculate total marks, percentage and grade. Print mark-sheet. Determine pass or fail.\n",
    "    <li>Input employee details: empno, name, gender, basic salary from user. Calculate DA (Of basic salary to 80% male, 70% to female ), HRA (Of basic salary 15% to female, 10% to male) and net salary. Also calculate gross (yearly) salary which also \n",
    "includes bonus (Of one basic salary 50% to male, 55% to female).\n",
    "    <li>Check whether your birthdate has already gone or it is about to come in the current year.\n",
    "    <li>Determine whether current year is leap year or not.\n",
    "</ol>"
   ]
  },
  {
   "cell_type": "markdown",
   "id": "altered-robin",
   "metadata": {},
   "source": [
    "### Looping"
   ]
  },
  {
   "cell_type": "markdown",
   "id": "marked-finder",
   "metadata": {},
   "source": [
    "while loop"
   ]
  },
  {
   "cell_type": "code",
   "execution_count": null,
   "id": "individual-pacific",
   "metadata": {},
   "outputs": [],
   "source": [
    "x = 1"
   ]
  },
  {
   "cell_type": "code",
   "execution_count": null,
   "id": "developed-worker",
   "metadata": {},
   "outputs": [],
   "source": [
    "while x <= 10:\n",
    "    print(x)\n",
    "    x += 1\n",
    "print(\"bye.\")"
   ]
  },
  {
   "cell_type": "code",
   "execution_count": null,
   "id": "numerous-viewer",
   "metadata": {},
   "outputs": [],
   "source": [
    "x = 1"
   ]
  },
  {
   "cell_type": "code",
   "execution_count": null,
   "id": "american-density",
   "metadata": {},
   "outputs": [],
   "source": [
    "while x <= 10:\n",
    "    print(x)\n",
    "    x += 1\n",
    "    print(\"bye.\") # notice indentation and output."
   ]
  },
  {
   "cell_type": "markdown",
   "id": "social-ticket",
   "metadata": {},
   "source": [
    "### EXERCISES-2-c\n",
    "Create Python programs for the following (Use while loop if required):\n",
    "<ol>\n",
    "    <li>Print multiplication table of a number entered by user.\n",
    "    <li>Compute factorial of a number given by user.\n",
    "    <li>Determine whether a number entered by user is prime or not.\n",
    "    <li>Determine whether a string entered by user is palindrome or not.\n",
    "</ol>"
   ]
  },
  {
   "cell_type": "markdown",
   "id": "ahead-brunei",
   "metadata": {},
   "source": [
    "for loop"
   ]
  },
  {
   "cell_type": "code",
   "execution_count": null,
   "id": "outstanding-public",
   "metadata": {},
   "outputs": [],
   "source": [
    "# print individual each character from a string\n",
    "str = \"University\"\n",
    "for ch in str:\n",
    "    print(ch)"
   ]
  },
  {
   "cell_type": "code",
   "execution_count": null,
   "id": "sufficient-initial",
   "metadata": {},
   "outputs": [],
   "source": [
    "# print individual each character from a string\n",
    "str = \"University\"\n",
    "ln = len(str)\n",
    "\n",
    "for i in range(ln):\n",
    "    print(str[i])"
   ]
  },
  {
   "cell_type": "code",
   "execution_count": null,
   "id": "premium-leather",
   "metadata": {},
   "outputs": [],
   "source": [
    "# print odd numbers \n",
    "for i in range(1,10,2):\n",
    "    print(i)"
   ]
  },
  {
   "cell_type": "code",
   "execution_count": null,
   "id": "static-incident",
   "metadata": {},
   "outputs": [],
   "source": [
    "# print numbers in descending order\n",
    "for i in range(10,0,-1):\n",
    "    print(i)"
   ]
  },
  {
   "cell_type": "code",
   "execution_count": null,
   "id": "revised-organ",
   "metadata": {},
   "outputs": [],
   "source": [
    "# print list elements \n",
    "lst = [7,9,'dd',79,'ddu',9.7]\n",
    "for element in lst:\n",
    "    print(element)"
   ]
  },
  {
   "cell_type": "markdown",
   "id": "arranged-briefing",
   "metadata": {},
   "source": [
    "### EXERCISES-2-d\n",
    "Create Python programs for the following (Use for loop if required):\n",
    "<ol>\n",
    "    <li>Find length of a string given by user. Do not use inbuilt function.\n",
    "    <li>Determine whether a number entered by user is prime or not. Do not use inbuilt functions.\n",
    "    <li>Determine whether a string entered by user is palindrome or not. Do not use inbuilt function.\n",
    "    <li>Print pattern:<BR>\n",
    "        *<BR>\n",
    "        * *<BR>\n",
    "        * * *<BR>\n",
    "        * * * *<BR>\n",
    "    <li>Pring pattern: <BR>\n",
    "        1<br>\n",
    "        1 2<br>\n",
    "        1 2 3<br>\n",
    "        ...<br>\n",
    "        1 2 3 .. N<br>\n",
    "     <li>Pring pattern: <BR>\n",
    "        A<br>\n",
    "        A B<br>\n",
    "        A B C<br>\n",
    "        ...<br>\n",
    "        A B C ...n <br>   \n",
    "</ol>"
   ]
  },
  {
   "cell_type": "markdown",
   "id": "broadband-continent",
   "metadata": {},
   "source": [
    "File name should be:<br>\n",
    "Yourollno-Practical-2-Elements of Python Progarmming-II.ipynb"
   ]
  },
  {
   "cell_type": "markdown",
   "id": "beeb90a1",
   "metadata": {},
   "source": [
    "<h3>1. Find length of a string given by user. Do not use inbuilt function.</h3>"
   ]
  },
  {
   "cell_type": "code",
   "execution_count": 1,
   "id": "0971e7a7",
   "metadata": {},
   "outputs": [
    {
     "name": "stdout",
     "output_type": "stream",
     "text": [
      "Enter a string: asf asd\n",
      "Length of the string 'asf asd' is 7\n"
     ]
    }
   ],
   "source": [
    "test_string = input(\"Enter a string: \") \n",
    "string_len = 0\n",
    "\n",
    "for char in test_string:\n",
    "  string_len += 1\n",
    "\n",
    "print(f\"Length of the string '{test_string}' is {string_len}\")\n"
   ]
  },
  {
   "cell_type": "markdown",
   "id": "9605e688",
   "metadata": {},
   "source": [
    "<h3>2.Determine whether a number entered by user is prime or not. Do not use inbuilt function</h3>"
   ]
  },
  {
   "cell_type": "code",
   "execution_count": 9,
   "id": "2c91d496",
   "metadata": {},
   "outputs": [
    {
     "name": "stdout",
     "output_type": "stream",
     "text": [
      "Enter a positive integer: as\n"
     ]
    },
    {
     "ename": "ValueError",
     "evalue": "invalid literal for int() with base 10: 'as'",
     "output_type": "error",
     "traceback": [
      "\u001b[1;31m---------------------------------------------------------------------------\u001b[0m",
      "\u001b[1;31mValueError\u001b[0m                                Traceback (most recent call last)",
      "Cell \u001b[1;32mIn[9], line 1\u001b[0m\n\u001b[1;32m----> 1\u001b[0m number \u001b[38;5;241m=\u001b[39m \u001b[38;5;28mint\u001b[39m(\u001b[38;5;28minput\u001b[39m(\u001b[38;5;124m\"\u001b[39m\u001b[38;5;124mEnter a positive integer: \u001b[39m\u001b[38;5;124m\"\u001b[39m))  \n\u001b[0;32m      2\u001b[0m \u001b[38;5;28;01mif\u001b[39;00m number \u001b[38;5;241m<\u001b[39m\u001b[38;5;241m=\u001b[39m \u001b[38;5;241m1\u001b[39m:\n\u001b[0;32m      3\u001b[0m   \u001b[38;5;28mprint\u001b[39m(\u001b[38;5;124mf\u001b[39m\u001b[38;5;124m\"\u001b[39m\u001b[38;5;132;01m{\u001b[39;00mnumber\u001b[38;5;132;01m}\u001b[39;00m\u001b[38;5;124m is not a prime number.\u001b[39m\u001b[38;5;124m\"\u001b[39m)  \n",
      "\u001b[1;31mValueError\u001b[0m: invalid literal for int() with base 10: 'as'"
     ]
    }
   ],
   "source": [
    "   \n",
    "number = int(input(\"Enter a positive integer: \"))  \n",
    "if number <= 1:\n",
    "  print(f\"{number} is not a prime number.\")  \n",
    "else:\n",
    "  for i in range(2, int(number**0.5) + 1):  \n",
    "    if number % i == 0:\n",
    "      print(f\"{number} is not a prime number.\")\n",
    "      break \n",
    "  else: \n",
    "    print(f\"{number} is a prime number.\")\n",
    "   "
   ]
  },
  {
   "cell_type": "markdown",
   "id": "a8056ebc",
   "metadata": {},
   "source": [
    "<h3>3. Determine whether a string entered by user is palindrome or not. Do not use inbuilt function.</h3>"
   ]
  },
  {
   "cell_type": "code",
   "execution_count": 10,
   "id": "24c23490",
   "metadata": {},
   "outputs": [
    {
     "name": "stdout",
     "output_type": "stream",
     "text": [
      "Enter a string: asddsa\n",
      "The string is a palindrome\n"
     ]
    }
   ],
   "source": [
    "text = input(\"Enter a string: \")  \n",
    "\n",
    "i, j = 0, len(text) - 1\n",
    "while i < j:\n",
    " if text[i] != text[j]:\n",
    "   print(\"The string is not a palindrome\")\n",
    "   break\n",
    " i += 1\n",
    " j -= 1\n",
    "else:\n",
    " print(\"The string is a palindrome\")\n"
   ]
  },
  {
   "cell_type": "markdown",
   "id": "e7dcb7ec",
   "metadata": {},
   "source": [
    "<pre><h3>4.Print pattern:\n",
    "  *\n",
    "  * *\n",
    "  * * *\n",
    "  * * * *</h3></pre>"
   ]
  },
  {
   "cell_type": "code",
   "execution_count": 14,
   "id": "6b7782c8",
   "metadata": {},
   "outputs": [
    {
     "name": "stdout",
     "output_type": "stream",
     "text": [
      "Enter number of pettern end :10\n",
      "\n",
      "* \n",
      "* * \n",
      "* * * \n",
      "* * * * \n",
      "* * * * * \n",
      "* * * * * * \n",
      "* * * * * * * \n",
      "* * * * * * * * \n",
      "* * * * * * * * * \n"
     ]
    }
   ],
   "source": [
    "no = int(input(\"Enter number of pettern end :\"))\n",
    "\n",
    "for i in range(0,no+!):\n",
    "    for j in range(0,i):\n",
    "        print(\"* \",end=\"\")\n",
    "    print()"
   ]
  },
  {
   "cell_type": "markdown",
   "id": "66afd2b6",
   "metadata": {},
   "source": [
    "<pre><h3> 5.Pring pattern:\n",
    "  1\n",
    "  1 2\n",
    "  1 2 3\n",
    "  ...\n",
    "  1 2 3 .. N</h3></pre>"
   ]
  },
  {
   "cell_type": "code",
   "execution_count": 17,
   "id": "06510665",
   "metadata": {},
   "outputs": [
    {
     "name": "stdout",
     "output_type": "stream",
     "text": [
      "Enter number of pettern end :10\n",
      "\n",
      "1\n",
      "12\n",
      "123\n",
      "1234\n",
      "12345\n",
      "123456\n",
      "1234567\n",
      "12345678\n",
      "123456789\n",
      "12345678910\n"
     ]
    }
   ],
   "source": [
    "no = int(input(\"Enter number of pettern end :\"))\n",
    "\n",
    "for i in range(0,no+1):\n",
    "    for j in range(1,i+1):\n",
    "        print(j,end=\"\")\n",
    "    print()"
   ]
  },
  {
   "cell_type": "markdown",
   "id": "d231965d",
   "metadata": {},
   "source": [
    "<pre><h3>6.Pring pattern:\n",
    "  A\n",
    "  A B\n",
    "  A B C\n",
    "  ...\n",
    "  A B C ...n</h3></pre>"
   ]
  },
  {
   "cell_type": "code",
   "execution_count": 18,
   "id": "c80c90eb",
   "metadata": {},
   "outputs": [
    {
     "name": "stdout",
     "output_type": "stream",
     "text": [
      "Enter the number of rows: 10\n",
      "A \n",
      "A B \n",
      "A B C \n",
      "A B C D \n",
      "A B C D E \n",
      "A B C D E F \n",
      "A B C D E F G \n",
      "A B C D E F G H \n",
      "A B C D E F G H I \n",
      "A B C D E F G H I J \n"
     ]
    }
   ],
   "source": [
    "n = int(input(\"Enter the number of rows: \"))\n",
    "\n",
    "i = 1\n",
    "while i <= n:  \n",
    "  j = 65  \n",
    "  while j < 65 + i:  \n",
    "    print(chr(j), end=\" \")  \n",
    "    j += 1\n",
    "  print()  \n",
    "  i += 1\n"
   ]
  }
 ],
 "metadata": {
  "kernelspec": {
   "display_name": "Python 3 (ipykernel)",
   "language": "python",
   "name": "python3"
  },
  "language_info": {
   "codemirror_mode": {
    "name": "ipython",
    "version": 3
   },
   "file_extension": ".py",
   "mimetype": "text/x-python",
   "name": "python",
   "nbconvert_exporter": "python",
   "pygments_lexer": "ipython3",
   "version": "3.11.5"
  }
 },
 "nbformat": 4,
 "nbformat_minor": 5
}
